{
 "cells": [
  {
   "cell_type": "code",
   "execution_count": 91,
   "metadata": {},
   "outputs": [],
   "source": [
    "from selenium import webdriver\n",
    "\n",
    "from selenium.webdriver.common.by import By\n",
    "from selenium.webdriver.support.ui import WebDriverWait\n",
    "from selenium.webdriver.support import expected_conditions as ec"
   ]
  },
  {
   "cell_type": "code",
   "execution_count": 87,
   "metadata": {},
   "outputs": [],
   "source": [
    "profile = webdriver.FirefoxProfile()\n",
    "\n",
    "profile.set_preference('network.proxy.type', 1)\n",
    "\n",
    "ip = '177.92.22.74'\n",
    "port = 80\n",
    "\n",
    "profile.set_preference('network.proxy.http', ip)\n",
    "profile.set_preference('network.proxy.http_port', port)\n",
    "profile.set_preference('network.proxy.ssl', ip)\n",
    "profile.set_preference('network.proxy.ssl_port', port)\n",
    "\n",
    "profile.set_preference('permissions.default.image', 2)\n",
    "profile.set_preference('browser.migration.version', 9001)\n",
    "# profile.set_preference('permissions.default.stylesheet', 2)\n",
    "profile.set_preference('dom.ipc.plugins.enabled.libflashplayer.so', 'false')\n",
    "profile.set_preference('javascript.enabled', 'false')\n",
    "\n",
    "profile.update_preferences()"
   ]
  },
  {
   "cell_type": "code",
   "execution_count": 88,
   "metadata": {},
   "outputs": [],
   "source": [
    "driver = webdriver.Firefox(profile)"
   ]
  },
  {
   "cell_type": "code",
   "execution_count": 93,
   "metadata": {},
   "outputs": [],
   "source": [
    "driver.get('https://alibaba.com')"
   ]
  },
  {
   "cell_type": "code",
   "execution_count": 94,
   "metadata": {},
   "outputs": [],
   "source": [
    "try:\n",
    "    element = WebDriverWait(driver, 20).until(\n",
    "        ec.presence_of_element_located((By.LINK_TEXT, 'Sign In')))\n",
    "except Exception as e:\n",
    "    print(e)"
   ]
  },
  {
   "cell_type": "code",
   "execution_count": 95,
   "metadata": {},
   "outputs": [],
   "source": [
    "sign_in = driver.find_element_by_link_text('Sign In')\n",
    "\n",
    "sign_in.click()"
   ]
  },
  {
   "cell_type": "code",
   "execution_count": 22,
   "metadata": {},
   "outputs": [],
   "source": [
    "from selenium.webdriver.common.keys import Keys"
   ]
  },
  {
   "cell_type": "code",
   "execution_count": 96,
   "metadata": {},
   "outputs": [],
   "source": [
    "driver.switch_to.frame('alibaba-login-box')"
   ]
  },
  {
   "cell_type": "code",
   "execution_count": 97,
   "metadata": {},
   "outputs": [],
   "source": [
    "id = driver.find_element_by_id('fm-login-id')\n",
    "\n",
    "id.send_keys('tsingmetal02@gmail.com')"
   ]
  },
  {
   "cell_type": "code",
   "execution_count": 98,
   "metadata": {},
   "outputs": [],
   "source": [
    "passwd = driver.find_element_by_id('fm-login-password')\n",
    "\n",
    "passwd.send_keys('7630.alibaba')"
   ]
  },
  {
   "cell_type": "code",
   "execution_count": 99,
   "metadata": {},
   "outputs": [],
   "source": [
    "sumit = driver.find_element_by_id('fm-login-submit')\n",
    "\n",
    "sumit.click()"
   ]
  },
  {
   "cell_type": "code",
   "execution_count": 100,
   "metadata": {},
   "outputs": [],
   "source": [
    "driver.switch_to.default_content()"
   ]
  },
  {
   "cell_type": "code",
   "execution_count": 101,
   "metadata": {},
   "outputs": [],
   "source": [
    "driver.get(\"https://www.alibaba.com/product-detail/Wholesale-Private-Label-Natural-3D-Mink_60746199247.html?spm=a2700.8443322.0.0.74713e5fkOlA2x\")"
   ]
  },
  {
   "cell_type": "code",
   "execution_count": 71,
   "metadata": {},
   "outputs": [],
   "source": [
    "search_box = driver.find_element_by_class_name('ui-searchbar-keyword')"
   ]
  },
  {
   "cell_type": "code",
   "execution_count": 72,
   "metadata": {},
   "outputs": [],
   "source": [
    "search_box.send_keys('eyelashes')\n",
    "\n",
    "search_box.send_keys('\\n')"
   ]
  },
  {
   "cell_type": "code",
   "execution_count": 75,
   "metadata": {},
   "outputs": [],
   "source": [
    "link = driver.find_element_by_class_name('util-valign-inner')\n",
    "\n",
    "link.click()"
   ]
  },
  {
   "cell_type": "code",
   "execution_count": 102,
   "metadata": {},
   "outputs": [],
   "source": [
    "contact_sup = driver.find_element_by_link_text('Contact Supplier')\n",
    "\n",
    "contact_sup.click()"
   ]
  },
  {
   "cell_type": "code",
   "execution_count": 78,
   "metadata": {},
   "outputs": [],
   "source": [
    "windows = driver.window_handles"
   ]
  },
  {
   "cell_type": "code",
   "execution_count": 81,
   "metadata": {},
   "outputs": [
    {
     "data": {
      "text/plain": [
       "['6442450945', '6442451009', '6442451032']"
      ]
     },
     "execution_count": 81,
     "metadata": {},
     "output_type": "execute_result"
    }
   ],
   "source": [
    "windows"
   ]
  },
  {
   "cell_type": "code",
   "execution_count": 79,
   "metadata": {},
   "outputs": [],
   "source": [
    "driver.switch_to.window(windows[-1])"
   ]
  },
  {
   "cell_type": "code",
   "execution_count": 83,
   "metadata": {},
   "outputs": [
    {
     "data": {
      "text/plain": [
       "'Alibaba Manufacturer Directory - Suppliers, Manufacturers, Exporters & Importers'"
      ]
     },
     "execution_count": 83,
     "metadata": {},
     "output_type": "execute_result"
    }
   ],
   "source": [
    "driver.title"
   ]
  },
  {
   "cell_type": "code",
   "execution_count": 103,
   "metadata": {},
   "outputs": [],
   "source": [
    "textarea = driver.find_element_by_id('inquiry-content')"
   ]
  },
  {
   "cell_type": "code",
   "execution_count": 104,
   "metadata": {},
   "outputs": [],
   "source": [
    "textarea.send_keys('this message is sent from robot developped by 王青 %s' % ip)"
   ]
  },
  {
   "cell_type": "code",
   "execution_count": 105,
   "metadata": {},
   "outputs": [],
   "source": [
    "send_button = driver.find_element_by_class_name('ui2-button')"
   ]
  },
  {
   "cell_type": "code",
   "execution_count": 106,
   "metadata": {},
   "outputs": [],
   "source": [
    "send_button.click()"
   ]
  },
  {
   "cell_type": "code",
   "execution_count": 107,
   "metadata": {},
   "outputs": [],
   "source": [
    "driver.quit()"
   ]
  },
  {
   "cell_type": "code",
   "execution_count": null,
   "metadata": {},
   "outputs": [],
   "source": []
  }
 ],
 "metadata": {
  "kernelspec": {
   "display_name": "Python 3",
   "language": "python",
   "name": "python3"
  },
  "language_info": {
   "codemirror_mode": {
    "name": "ipython",
    "version": 3
   },
   "file_extension": ".py",
   "mimetype": "text/x-python",
   "name": "python",
   "nbconvert_exporter": "python",
   "pygments_lexer": "ipython3",
   "version": "3.7.0"
  }
 },
 "nbformat": 4,
 "nbformat_minor": 2
}
